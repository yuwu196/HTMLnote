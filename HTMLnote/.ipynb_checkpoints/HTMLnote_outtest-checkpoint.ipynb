{
 "cells": [
  {
   "cell_type": "code",
   "execution_count": 36,
   "metadata": {
    "collapsed": false
   },
   "outputs": [],
   "source": [
    "# FOR IMPORT IPYTHON\n",
    "import sys\n",
    "sys.path.append('/Users/yuwu/Desktop/UIUC/MP/RunningPlatform/HTMLnote/Code/')\n",
    "import ImportIpython as II\n",
    "sys.meta_path.append(II.NotebookFinder())"
   ]
  },
  {
   "cell_type": "code",
   "execution_count": 41,
   "metadata": {
    "collapsed": false
   },
   "outputs": [],
   "source": [
    "import Code.readHTML as RH\n",
    "from Code.readHTML import mapHTML\n",
    "import Code.NoteTemplate as NT\n",
    "from Code.NoteTemplate import newHTMLnote,addmaps,addonemap,addmarkdown"
   ]
  },
  {
   "cell_type": "code",
   "execution_count": 29,
   "metadata": {
    "collapsed": false
   },
   "outputs": [],
   "source": [
    "#dir_path\n"
   ]
  },
  {
   "cell_type": "code",
   "execution_count": 3,
   "metadata": {
    "collapsed": false
   },
   "outputs": [
    {
     "name": "stdout",
     "output_type": "stream",
     "text": [
      "soup is done!\n",
      "soup is done!\n",
      "soup is done!\n",
      "soup is done!\n",
      "soup is done!\n",
      "soup is done!\n",
      "soup is done!\n",
      "soup is done!\n",
      "soup is done!\n",
      "soup is done!\n",
      "soup is done!\n",
      "soup is done!\n"
     ]
    }
   ],
   "source": [
    "mapset= [ mapHTML(\"relative27_\"+str(i)+\".html\",size=50) for i in range(168,180)]"
   ]
  },
  {
   "cell_type": "code",
   "execution_count": 4,
   "metadata": {
    "collapsed": false
   },
   "outputs": [],
   "source": [
    "#addmaps(mapset)"
   ]
  },
  {
   "cell_type": "code",
   "execution_count": 4,
   "metadata": {
    "collapsed": false
   },
   "outputs": [
    {
     "data": {
      "text/plain": [
       "'<style> #map_fe3fd56473b248ac9b8fa0fbdd982a43 {\\n                position : relative;\\n                width : 50.0%;\\n                height: 50.0%;\\n                left: 0.0%;\\n                top: 0.0%;\\n                }\\n            </style>'"
      ]
     },
     "execution_count": 4,
     "metadata": {},
     "output_type": "execute_result"
    }
   ],
   "source": [
    "mapset[0].style"
   ]
  },
  {
   "cell_type": "code",
   "execution_count": 5,
   "metadata": {
    "collapsed": false
   },
   "outputs": [
    {
     "name": "stdout",
     "output_type": "stream",
     "text": [
      "map is added!\n",
      "mapset is added!\n",
      "map is added!\n"
     ]
    }
   ],
   "source": [
    "addonemap(mapset[0],new=True)\n",
    "addmaps(mapset[2:5],new=False)\n",
    "addonemap(mapset[9],new=False)"
   ]
  },
  {
   "cell_type": "code",
   "execution_count": 25,
   "metadata": {
    "collapsed": false
   },
   "outputs": [
    {
     "name": "stdout",
     "output_type": "stream",
     "text": [
      "[TerminalIPythonApp] WARNING | Subcommand `ipython nbconvert` is deprecated and will be removed in future versions.\n",
      "[TerminalIPythonApp] WARNING | You likely want to use `jupyter nbconvert` in the future\n",
      "[NbConvertApp] Converting notebook HTMLnote_outtest.ipynb to python\n",
      "[NbConvertApp] Writing 749 bytes to HTMLnote_outtest.py\n"
     ]
    }
   ],
   "source": [
    "!ipython nbconvert --to=python HTMLnote_outtest.ipynb"
   ]
  },
  {
   "cell_type": "code",
   "execution_count": null,
   "metadata": {
    "collapsed": true
   },
   "outputs": [],
   "source": [
    "!ipython nbconvert --to=python readHTML.ipynb\n",
    "!ipython nbconvert --to=python readHTML.ipynb"
   ]
  }
 ],
 "metadata": {
  "anaconda-cloud": {},
  "kernelspec": {
   "display_name": "Python [conda root]",
   "language": "python",
   "name": "conda-root-py"
  },
  "language_info": {
   "codemirror_mode": {
    "name": "ipython",
    "version": 3
   },
   "file_extension": ".py",
   "mimetype": "text/x-python",
   "name": "python",
   "nbconvert_exporter": "python",
   "pygments_lexer": "ipython3",
   "version": "3.5.2"
  }
 },
 "nbformat": 4,
 "nbformat_minor": 1
}
