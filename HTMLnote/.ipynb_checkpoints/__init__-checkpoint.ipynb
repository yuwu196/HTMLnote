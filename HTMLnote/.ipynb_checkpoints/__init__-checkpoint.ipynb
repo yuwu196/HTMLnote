{
 "cells": [
  {
   "cell_type": "code",
   "execution_count": 6,
   "metadata": {
    "collapsed": false
   },
   "outputs": [
    {
     "name": "stdout",
     "output_type": "stream",
     "text": [
      "[TerminalIPythonApp] WARNING | Subcommand `ipython nbconvert` is deprecated and will be removed in future versions.\n",
      "[TerminalIPythonApp] WARNING | You likely want to use `jupyter nbconvert` in the future\n",
      "[NbConvertApp] Converting notebook __init__.ipynb to python\n",
      "[NbConvertApp] Writing 531 bytes to __init__.py\n"
     ]
    }
   ],
   "source": [
    "#!ipython nbconvert --to=python __init__.ipynb"
   ]
  },
  {
   "cell_type": "code",
   "execution_count": 4,
   "metadata": {
    "collapsed": false
   },
   "outputs": [
    {
     "ename": "ImportError",
     "evalue": "cannot import name 'currenttime'",
     "output_type": "error",
     "traceback": [
      "\u001b[0;31m---------------------------------------------------------------------------\u001b[0m",
      "\u001b[0;31mImportError\u001b[0m                               Traceback (most recent call last)",
      "\u001b[0;32m<ipython-input-4-9523f0379616>\u001b[0m in \u001b[0;36m<module>\u001b[0;34m()\u001b[0m\n\u001b[1;32m      1\u001b[0m \u001b[0;32mimport\u001b[0m \u001b[0mImportIpython\u001b[0m \u001b[0;32mas\u001b[0m \u001b[0mII\u001b[0m\u001b[0;34m\u001b[0m\u001b[0m\n\u001b[1;32m      2\u001b[0m \u001b[0;32mfrom\u001b[0m \u001b[0mreadHTML\u001b[0m \u001b[0;32mimport\u001b[0m \u001b[0mmakesoup\u001b[0m\u001b[0;34m,\u001b[0m\u001b[0mget_div\u001b[0m\u001b[0;34m,\u001b[0m\u001b[0mget_varnname\u001b[0m\u001b[0;34m,\u001b[0m\u001b[0mget_style\u001b[0m\u001b[0;34m\u001b[0m\u001b[0m\n\u001b[0;32m----> 3\u001b[0;31m \u001b[0;32mfrom\u001b[0m \u001b[0mNoteTemplate\u001b[0m \u001b[0;32mimport\u001b[0m \u001b[0mnewHTMLnote\u001b[0m\u001b[0;34m,\u001b[0m \u001b[0maddmaps\u001b[0m\u001b[0;34m,\u001b[0m \u001b[0maddonemap\u001b[0m\u001b[0;34m,\u001b[0m \u001b[0maddmarkdown\u001b[0m\u001b[0;34m,\u001b[0m \u001b[0mcurrenttime\u001b[0m\u001b[0;34m,\u001b[0m \u001b[0mlatestnote\u001b[0m\u001b[0;34m\u001b[0m\u001b[0m\n\u001b[0m\u001b[1;32m      4\u001b[0m \u001b[0;34m\u001b[0m\u001b[0m\n\u001b[1;32m      5\u001b[0m \u001b[0m__version__\u001b[0m\u001b[0;34m=\u001b[0m\u001b[0;34m'0.9.0'\u001b[0m\u001b[0;34m\u001b[0m\u001b[0m\n",
      "\u001b[0;31mImportError\u001b[0m: cannot import name 'currenttime'"
     ]
    }
   ],
   "source": [
    "import ImportIpython as II\n",
    "from readHTML import makesoup,get_div,get_varnname,get_style\n",
    "from NoteTemplate import newHTMLnote, addmaps, addonemap, addmarkdown, currenttime, latestnote\n",
    "\n",
    "__version__='0.9.0'\n",
    "\n",
    "__all__=['makesoup',\n",
    "         'get_div',\n",
    "         'get_varnname',\n",
    "         'get_style',\n",
    "         'newHTMLnote',\n",
    "         'addmaps',\n",
    "         'addonemap',\n",
    "         'addmarkdown',\n",
    "         'currenttime',\n",
    "         'latestnote']"
   ]
  },
  {
   "cell_type": "code",
   "execution_count": null,
   "metadata": {
    "collapsed": true
   },
   "outputs": [],
   "source": []
  }
 ],
 "metadata": {
  "anaconda-cloud": {},
  "kernelspec": {
   "display_name": "Python [conda root]",
   "language": "python",
   "name": "conda-root-py"
  },
  "language_info": {
   "codemirror_mode": {
    "name": "ipython",
    "version": 3
   },
   "file_extension": ".py",
   "mimetype": "text/x-python",
   "name": "python",
   "nbconvert_exporter": "python",
   "pygments_lexer": "ipython3",
   "version": "3.5.2"
  }
 },
 "nbformat": 4,
 "nbformat_minor": 1
}
