{
 "cells": [
  {
   "cell_type": "code",
   "execution_count": 1,
   "metadata": {
    "collapsed": true
   },
   "outputs": [],
   "source": [
    "# FOR IMPORT IPYTHON\n",
    "import sys\n",
    "import ImportIpython as II\n",
    "sys.meta_path.append(II.NotebookFinder())"
   ]
  },
  {
   "cell_type": "code",
   "execution_count": 2,
   "metadata": {
    "collapsed": false
   },
   "outputs": [
    {
     "name": "stdout",
     "output_type": "stream",
     "text": [
      "importing Jupyter notebook from ReadHTML.ipynb\n",
      "importing Jupyter notebook from NoteTemplate.ipynb\n",
      "importing Jupyter notebook from readHTML.ipynb\n"
     ]
    }
   ],
   "source": [
    "import ReadHTML as RH\n",
    "from ReadHTML import mapHTML\n",
    "import NoteTemplate as NT\n",
    "from NoteTemplate import addmaps,addonemap"
   ]
  },
  {
   "cell_type": "code",
   "execution_count": null,
   "metadata": {
    "collapsed": true
   },
   "outputs": [],
   "source": [
    "#dir_path"
   ]
  },
  {
   "cell_type": "code",
   "execution_count": 3,
   "metadata": {
    "collapsed": false
   },
   "outputs": [
    {
     "name": "stdout",
     "output_type": "stream",
     "text": [
      "soup is done!\n",
      "soup is done!\n",
      "soup is done!\n",
      "soup is done!\n",
      "soup is done!\n",
      "soup is done!\n",
      "soup is done!\n",
      "soup is done!\n",
      "soup is done!\n",
      "soup is done!\n",
      "soup is done!\n",
      "soup is done!\n"
     ]
    }
   ],
   "source": [
    "mapset= [ mapHTML(\"relative27_\"+str(i)+\".html\",size=50) for i in range(168,180)]"
   ]
  },
  {
   "cell_type": "code",
   "execution_count": 4,
   "metadata": {
    "collapsed": false
   },
   "outputs": [],
   "source": [
    "#addmaps(mapset)"
   ]
  },
  {
   "cell_type": "code",
   "execution_count": 4,
   "metadata": {
    "collapsed": false
   },
   "outputs": [
    {
     "data": {
      "text/plain": [
       "'<style> #map_fe3fd56473b248ac9b8fa0fbdd982a43 {\\n                position : relative;\\n                width : 50.0%;\\n                height: 50.0%;\\n                left: 0.0%;\\n                top: 0.0%;\\n                }\\n            </style>'"
      ]
     },
     "execution_count": 4,
     "metadata": {},
     "output_type": "execute_result"
    }
   ],
   "source": [
    "mapset[0].style"
   ]
  },
  {
   "cell_type": "code",
   "execution_count": 5,
   "metadata": {
    "collapsed": false
   },
   "outputs": [
    {
     "name": "stdout",
     "output_type": "stream",
     "text": [
      "map is added!\n",
      "mapset is added!\n",
      "map is added!\n"
     ]
    }
   ],
   "source": [
    "addonemap(mapset[0],new=True)\n",
    "addmaps(mapset[2:5],new=False)\n",
    "addonemap(mapset[9],new=False)"
   ]
  },
  {
   "cell_type": "code",
   "execution_count": null,
   "metadata": {
    "collapsed": true
   },
   "outputs": [],
   "source": []
  }
 ],
 "metadata": {
  "anaconda-cloud": {},
  "kernelspec": {
   "display_name": "Python [conda root]",
   "language": "python",
   "name": "conda-root-py"
  },
  "language_info": {
   "codemirror_mode": {
    "name": "ipython",
    "version": 3
   },
   "file_extension": ".py",
   "mimetype": "text/x-python",
   "name": "python",
   "nbconvert_exporter": "python",
   "pygments_lexer": "ipython3",
   "version": "3.5.2"
  }
 },
 "nbformat": 4,
 "nbformat_minor": 1
}
