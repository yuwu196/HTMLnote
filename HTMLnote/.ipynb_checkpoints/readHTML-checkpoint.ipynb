{
 "cells": [
  {
   "cell_type": "code",
   "execution_count": 1,
   "metadata": {
    "collapsed": false
   },
   "outputs": [],
   "source": [
    "from bs4 import BeautifulSoup\n"
   ]
  },
  {
   "cell_type": "code",
   "execution_count": 2,
   "metadata": {
    "collapsed": false
   },
   "outputs": [],
   "source": [
    "class mapHTML:\n",
    "    def __init__(self, filename,size=30,fold_path='/Users/yuwu/Desktop/UIUC/MP/RunningPlatform/zoom13'):\n",
    "        self.filename=filename\n",
    "        self.fold_path=fold_path\n",
    "        self.size=size\n",
    "        self.soup=makesoup(filename,self.fold_path)\n",
    "        self.style=get_style(self.soup,self.size)\n",
    "        self.div=get_div(self.soup)\n",
    "        self.mapname, self.var = get_varnname(self.soup)"
   ]
  },
  {
   "cell_type": "code",
   "execution_count": 3,
   "metadata": {
    "collapsed": false
   },
   "outputs": [],
   "source": [
    "\n",
    "\n",
    "#class readH:\n",
    "    \n",
    "def makesoup(filename,fold_path):\n",
    "    #filename=\"relative27_172.html\"\n",
    "    pathforfile = fold_path+\"/{}\"\n",
    "    file = open(pathforfile.format(filename))\n",
    "    print (\"soup is done!\")\n",
    "    return BeautifulSoup(file,\"lxml\")\n",
    "\n",
    "def get_div(soup):\n",
    "    get_div = soup.find_all(\"div\")\n",
    "    div = str(get_div)\n",
    "    return div[1:len(div)-1]\n",
    "\n",
    "def get_varnname(soup):\n",
    "    get_scriptvar = soup.find_all('script')\n",
    "    temp = str(get_scriptvar)\n",
    "    start=temp.index(\"var map\")\n",
    "    temp=temp[start:]\n",
    "    allvar = temp.split(\"</script\")[0]\n",
    "    mapname = allvar.split(' ')[1]\n",
    "    return mapname,allvar\n",
    "\n",
    "\n",
    "\n"
   ]
  },
  {
   "cell_type": "code",
   "execution_count": 4,
   "metadata": {
    "collapsed": false
   },
   "outputs": [],
   "source": [
    "def get_style(soup,size):\n",
    "    get_style = soup.find_all('style')\n",
    "    temp =str(get_style)\n",
    "    temp = temp.split('style> ')[1]\n",
    "    temp = '<style> '+temp\n",
    "    temp = temp.split('100.')\n",
    "    style = temp[0]+str(size)+'.'+temp[1]+str(size)+'.'+temp[2]\n",
    "    style = style.replace(']','')\n",
    "    return style"
   ]
  },
  {
   "cell_type": "code",
   "execution_count": 11,
   "metadata": {
    "collapsed": false
   },
   "outputs": [
    {
     "name": "stdout",
     "output_type": "stream",
     "text": [
      "soup is done!\n"
     ]
    },
    {
     "data": {
      "text/plain": [
       "'<style> #map_fe3fd56473b248ac9b8fa0fbdd982a43 {\\n                position : relative;\\n                width : 30.0%;\\n                height: 30.0%;\\n                left: 0.0%;\\n                top: 0.0%;\\n                }\\n            </style>'"
      ]
     },
     "execution_count": 11,
     "metadata": {},
     "output_type": "execute_result"
    }
   ],
   "source": [
    "'''\n",
    "\n",
    "s=mapHTML(\"relative27_168.html\")\n",
    "s.style\n",
    "'''"
   ]
  },
  {
   "cell_type": "code",
   "execution_count": 6,
   "metadata": {
    "collapsed": false
   },
   "outputs": [
    {
     "data": {
      "text/plain": [
       "\"\\ns=get_style(makesoup(''))\\ns\\n\""
      ]
     },
     "execution_count": 6,
     "metadata": {},
     "output_type": "execute_result"
    }
   ],
   "source": [
    "'''\n",
    "s=get_style(makesoup(''))\n",
    "s\n",
    "'''"
   ]
  },
  {
   "cell_type": "code",
   "execution_count": 7,
   "metadata": {
    "collapsed": false
   },
   "outputs": [
    {
     "data": {
      "text/plain": [
       "\"\\nfor city in soup.find_all('span', {'class' : 'script'}):\\n    print(city\\n    \""
      ]
     },
     "execution_count": 7,
     "metadata": {},
     "output_type": "execute_result"
    }
   ],
   "source": [
    "'''\n",
    "for city in soup.find_all('span', {'class' : 'script'}):\n",
    "    print(city\n",
    "    '''"
   ]
  }
 ],
 "metadata": {
  "anaconda-cloud": {},
  "kernelspec": {
   "display_name": "Python [conda root]",
   "language": "python",
   "name": "conda-root-py"
  },
  "language_info": {
   "codemirror_mode": {
    "name": "ipython",
    "version": 3
   },
   "file_extension": ".py",
   "mimetype": "text/x-python",
   "name": "python",
   "nbconvert_exporter": "python",
   "pygments_lexer": "ipython3",
   "version": "3.5.2"
  }
 },
 "nbformat": 4,
 "nbformat_minor": 1
}
