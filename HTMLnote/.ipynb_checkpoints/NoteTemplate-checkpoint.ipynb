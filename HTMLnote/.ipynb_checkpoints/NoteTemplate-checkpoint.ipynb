{
 "cells": [
  {
   "cell_type": "code",
   "execution_count": 112,
   "metadata": {
    "collapsed": false
   },
   "outputs": [
    {
     "name": "stdout",
     "output_type": "stream",
     "text": [
      "[TerminalIPythonApp] WARNING | Subcommand `ipython nbconvert` is deprecated and will be removed in future versions.\n",
      "[TerminalIPythonApp] WARNING | You likely want to use `jupyter nbconvert` in the future\n",
      "[NbConvertApp] Converting notebook NoteTemplate.ipynb to python\n",
      "[NbConvertApp] Writing 7990 bytes to NoteTemplate.py\n"
     ]
    }
   ],
   "source": [
    "#run this cell: updating py file\n",
    "#!ipython nbconvert --to=python NoteTemplate.ipynb"
   ]
  },
  {
   "cell_type": "code",
   "execution_count": 97,
   "metadata": {
    "collapsed": false
   },
   "outputs": [],
   "source": [
    "# 3 path here!!\n",
    "#    %reset"
   ]
  },
  {
   "cell_type": "code",
   "execution_count": 98,
   "metadata": {
    "collapsed": true
   },
   "outputs": [],
   "source": [
    "# FOR IMPORT IPYTHON\n",
    "import sys\n",
    "import ImportIpython as II\n",
    "sys.meta_path.append(II.NotebookFinder())"
   ]
  },
  {
   "cell_type": "code",
   "execution_count": 99,
   "metadata": {
    "collapsed": true
   },
   "outputs": [],
   "source": [
    "from readHTML import mapHTML"
   ]
  },
  {
   "cell_type": "code",
   "execution_count": 100,
   "metadata": {
    "collapsed": true
   },
   "outputs": [],
   "source": [
    "#time upodated\n",
    "import datetime\n",
    "import time #delay for save template\n",
    "\n",
    "def currenttime(): \n",
    "    t=datetime.datetime.now()\n",
    "    return str(t.year)+'/'+str(t.month)+'/'+str(t.day)+'   '+str(t.hour)+':'+str(t.minute)+':'+str(t.second)\n"
   ]
  },
  {
   "cell_type": "code",
   "execution_count": 101,
   "metadata": {
    "collapsed": true
   },
   "outputs": [],
   "source": [
    "def deepcopystr(b):\n",
    "    return (b + '.')[:-1]"
   ]
  },
  {
   "cell_type": "code",
   "execution_count": 102,
   "metadata": {
    "collapsed": false
   },
   "outputs": [],
   "source": [
    "import os\n",
    "from jinja2 import Environment, FileSystemLoader\n",
    "\n",
    "__file__='/Users/yuwu/Desktop/UIUC/HTMLnote_pkg/HTMLnote/templates/'\n",
    "PATH = os.path.dirname(os.path.abspath(__file__))\n",
    "TEMPLATE_ENVIRONMENT = Environment(\n",
    "    autoescape=False,\n",
    "    loader=FileSystemLoader(os.path.join(PATH, 'templates')),\n",
    "    trim_blocks=False)\n",
    "\n",
    "\n",
    "global savename_ \n",
    "#savename_ = 'new_HTMLnote.html'\n",
    "global author_\n",
    "\n",
    "\n",
    "\n",
    "def newHTMLnote(author='{Please add author by newHTMLnote(author=\\'\\') }', savename='new_HTMLnote.html'):\n",
    "    global savename_ \n",
    "    savename_=deepcopystr(savename)\n",
    "    global author_\n",
    "    author_=deepcopystr(author)\n",
    "    \n",
    " \n",
    "\n",
    "\n",
    "def render_template(template_filename, context):\n",
    "    t = TEMPLATE_ENVIRONMENT.get_template(template_filename)\n",
    "    return t.render(context)\n",
    " \n",
    " \n",
    "def create_index_html( new, savename, text='', mapset=[]):\n",
    "    #the name of the note file\n",
    "    fname = savename\n",
    "    \n",
    "    if new: \n",
    "        templatefile='note_template.html'\n",
    "    else: \n",
    "        templatefile='pre_template.html'\n",
    "        #templatefile='new_template.html'\n",
    "    \n",
    "    \n",
    "    \n",
    "    title = savename.replace('.html','')\n",
    "    print (title)\n",
    "    title = '<h1>'+title+'</h1>'\n",
    "    \n",
    "    global author_\n",
    "    footnote='<p><br><br><br><br><br></p><p>'+'Last Update: '+currenttime()+' by '+author_+'<br></p>'\n",
    "    footnote=footnote+'<mark>HTMLnote is supported by Yu Wu</mark>'\n",
    "    \n",
    "    filenameset=[ '<h3>'+mapset[i].filename+'</h3>' for i in range(len(mapset)) ]\n",
    "    styleset=[ mapset[i].style for i in range(len(mapset)) ]\n",
    "    divset=[ mapset[i].div for i in range(len(mapset)) ]\n",
    "    varset=[ mapset[i].var for i in range(len(mapset)) ]\n",
    "    \n",
    "    context = {\n",
    "        'title': title,\n",
    "        'filenames': filenameset,\n",
    "        'styles': styleset,\n",
    "        'divs': divset,\n",
    "        'vars': varset,\n",
    "        'footnote': footnote\n",
    "              }\n",
    "    \n",
    "    if len(text)!=0: \n",
    "        paragraph= '<p>'+text+'</p>'\n",
    "        context.update({'paragraph': paragraph})\n",
    "\n",
    "    \n",
    "    #\n",
    "    path_note='/Users/yuwu/Desktop/UIUC/HTMLnote_pkg/yourHTMLnote/'\n",
    "    with open(os.path.join(path_note, fname), 'w') as f:\n",
    "        html = render_template(templatefile, context)\n",
    "        f.write(html)\n",
    "\n",
    "        \n",
    "    #brilliant    \n",
    "    continue1 = \"{% for style in styles %} \\n            {{ style }} \\n            {% endfor %} \\n            {{continue1}}\\n\"\n",
    "    continue3 = \"{% for var_ in vars %}\\n            {{ var_ }} \\n            {% endfor %} \\n            {{continue3}}\\n\"\n",
    "    continue0 = \"{% for i in range(divs|length) %} \\n            <h2> {{ filenames[i] }} </h2> \\n            {{ divs[i] }} \\n            {% endfor %} \\n            {{ paragraph }}\\n            {{ continue0 }} \\n\"\n",
    "    continue_title = \"{{ title }}\\n\"\n",
    "    footnote=\"{{ footnote }}\"\n",
    "    \n",
    "    context.update({\n",
    "            'title': continue_title,\n",
    "        'continue1': continue1,\n",
    "        'continue3': continue3,\n",
    "        'continue0': continue0,\n",
    "         'footnote': footnote\n",
    "              })\n",
    "    \n",
    "    #\n",
    "    path_templates='/Users/yuwu/Desktop/UIUC/HTMLnote_pkg/HTMLnote/templates/'\n",
    "    with open(os.path.join(path_templates, 'new_template.html'),'w') as c:\n",
    "        cw_html = render_template(templatefile, context)\n",
    "        c.write(cw_html)\n",
    "        time.sleep(2)\n",
    "        newtemp=os.path.join(path_templates, 'new_template.html')\n",
    "        pretemp=os.path.join(path_templates, 'pre_template.html')\n",
    "        os.rename(newtemp,pretemp)\n",
    "        #os.rename('new_template.html','pre_template.html')\n",
    "    \n",
    " \n",
    "'''\n",
    "FOR ALL ADDING OPERATION\n",
    "-para: new = boolean\n",
    "-para: savename = string \n",
    "#DO NOT FORGET '.html'\n",
    "'''\n",
    "\n",
    " \n",
    "def addmaps(mapset, new=False, savename='new_HTMLnote.html'):\n",
    "    global savename_\n",
    "    b0=(savename in 'new_HTMLnote.html')\n",
    "    b1=(savename_ in savename)\n",
    "    if not b0 and not b1:\n",
    "        savename_=deepcopystr(savename)\n",
    "        \n",
    "    create_index_html(mapset=mapset,new=new, savename=savename_)\n",
    "    print('#mapset is added!\\n')\n",
    "    \n",
    "def addonemap(onemap, new=False, savename='new_HTMLnote.html'):\n",
    "    global savename_\n",
    "    b0=(savename in 'new_HTMLnote.html')\n",
    "    b1=(savename_ in savename)\n",
    "    if not b0 and not b1:\n",
    "        savename_=deepcopystr(savename)\n",
    "        \n",
    "    mapset=[onemap]\n",
    "    create_index_html(mapset=mapset,new=new, savename=savename_)\n",
    "    print('\\n#map is added!\\n')\n",
    "    \n",
    "def addmarkdown(text, wordsperline=16, new=False, savename='new_HTMLnote.html'):\n",
    "    '''\n",
    "    -para: text = string\n",
    "    -para: wordsperline = int\n",
    "    -para: new =boolean\n",
    "    -para: savename= string \n",
    "    #use /n to break manually OR adjust antomatically\n",
    "    #savename: save the most updated version in the new file name(as savename)\n",
    "    '''\n",
    "    global savename_\n",
    "    b0=(savename in 'new_HTMLnote.html')\n",
    "    b1=(savename_ in savename)\n",
    "    if not b0 and not b1:\n",
    "        savename_=deepcopystr(savename)\n",
    "        #print('CAHNGED TO '+savename_)\n",
    "        \n",
    "    #print ('!!!!! savename_  '+savename_)\n",
    "    text=adjust(text,width=wordsperline*5)\n",
    "    create_index_html(text=text,new=new, savename=savename_)\n",
    "    print('#text is added!\\n')\n",
    "    \n",
    "def latestnote():\n",
    "    global savename_\n",
    "    print('the latest HTMLnote is saved as '+ savename_)\n",
    "    \n",
    "########################################\n",
    " \n",
    "\n",
    "    \n",
    "\n",
    "    \n",
    "    \n"
   ]
  },
  {
   "cell_type": "code",
   "execution_count": 103,
   "metadata": {
    "collapsed": false
   },
   "outputs": [],
   "source": [
    "\n",
    "import textwrap\n",
    "sample_text = 'Relative error of traffic density for a typical week. Error is between low-rank approximation and observed traffic, normalized by observed traffic. Black links are small error, red lines are moderately large error, and thick red lines are large error. Work by Yu Wu.'\n",
    "sample_n    = 'Relative error of traffic density for a typical week. ' + '\\n' +'Error is between low-rank ' + '\\n'+'approximation and observed traffic, normalized by ' + '\\n'+'observed ' + '\\n'+'traffic. Black links are small error, red lines are moderately large error, and thick ' + '\\n'+'red lines are large error. Work by Yu Wu.'\n",
    "\n",
    "\n",
    "\n",
    "def adjust(text,width=80):\n",
    "    dedented_text = textwrap.dedent(text).strip()\n",
    "    result = dedented_text\n",
    "    if '\\n' not in text: \n",
    "        result = textwrap.fill(dedented_text, width=width)\n",
    "    result= result.replace(\"\\n\",'<br>')\n",
    "    #print(result)\n",
    "    return result\n",
    "\n",
    "#adjust(sample_text)\n"
   ]
  },
  {
   "cell_type": "code",
   "execution_count": 104,
   "metadata": {
    "collapsed": false
   },
   "outputs": [
    {
     "data": {
      "text/plain": [
       "'\\n\\nmap0=mapHTML(\"relative27_180.html\")\\nmap1=mapHTML(\"relative27_182.html\")\\nmapset=[map0,map1]\\n#addmaps(mapset,new=True)\\n#addmarkdown(\\'Oh yeah!\\n Is this the next line?\\')\\n#addmarkdown(\\'what about another markdown?\\')\\n'"
      ]
     },
     "execution_count": 104,
     "metadata": {},
     "output_type": "execute_result"
    }
   ],
   "source": [
    "\n",
    "'''\n",
    "\n",
    "map0=mapHTML(\"relative27_180.html\")\n",
    "map1=mapHTML(\"relative27_182.html\")\n",
    "mapset=[map0,map1]\n",
    "#addmaps(mapset,new=True)\n",
    "#addmarkdown('Oh yeah!\\n Is this the next line?')\n",
    "#addmarkdown('what about another markdown?')\n",
    "'''\n",
    "\n",
    "\n",
    "\n"
   ]
  },
  {
   "cell_type": "code",
   "execution_count": 105,
   "metadata": {
    "collapsed": false
   },
   "outputs": [],
   "source": [
    "\n",
    "\n",
    "########################################\n",
    "#if __name__ == \"__main__\":\n",
    "#   main(mapHTML)"
   ]
  },
  {
   "cell_type": "code",
   "execution_count": 106,
   "metadata": {
    "collapsed": false
   },
   "outputs": [
    {
     "data": {
      "text/plain": [
       "'\\nmap3=mapHTML(\"relative27_250.html\")\\nmap4=mapHTML(\"relative27_300.html\")\\naddonemap(map3,new=False)\\n'"
      ]
     },
     "execution_count": 106,
     "metadata": {},
     "output_type": "execute_result"
    }
   ],
   "source": [
    "'''\n",
    "map3=mapHTML(\"relative27_250.html\")\n",
    "map4=mapHTML(\"relative27_300.html\")\n",
    "addonemap(map3,new=False)\n",
    "'''"
   ]
  },
  {
   "cell_type": "code",
   "execution_count": 107,
   "metadata": {
    "collapsed": false
   },
   "outputs": [
    {
     "data": {
      "text/plain": [
       "'\\naddonemap(map4,new=False)\\n'"
      ]
     },
     "execution_count": 107,
     "metadata": {},
     "output_type": "execute_result"
    }
   ],
   "source": [
    "'''\n",
    "addonemap(map4,new=False)\n",
    "'''"
   ]
  },
  {
   "cell_type": "code",
   "execution_count": 108,
   "metadata": {
    "collapsed": true
   },
   "outputs": [],
   "source": [
    "#重复加一个图？"
   ]
  },
  {
   "cell_type": "code",
   "execution_count": 109,
   "metadata": {
    "collapsed": false
   },
   "outputs": [
    {
     "data": {
      "text/plain": [
       "\"\\n\\naddmarkdown('wordsperline: DEFAULT   '+sample_text,new=True)\\naddmarkdown('wordsperline: 20   '+sample_text, wordsperline=20)\\n\\n\\n\""
      ]
     },
     "execution_count": 109,
     "metadata": {},
     "output_type": "execute_result"
    }
   ],
   "source": [
    "'''\n",
    "\n",
    "addmarkdown('wordsperline: DEFAULT   '+sample_text,new=True)\n",
    "addmarkdown('wordsperline: 20   '+sample_text, wordsperline=20)\n",
    "\n",
    "\n",
    "'''"
   ]
  },
  {
   "cell_type": "code",
   "execution_count": 110,
   "metadata": {
    "collapsed": false
   },
   "outputs": [
    {
     "data": {
      "text/plain": [
       "'\\nmap0=mapHTML(\"relative27_180.html\")\\nmap1=mapHTML(\"relative27_182.html\",size=50)\\n\\nnewHTMLnote()\\naddmarkdown(text=\"11111111111\",new=True)\\nlatestnote()\\n\\n\\naddmarkdown(text=\"22222222222\",savename=\\'2nd.html\\')\\nlatestnote()\\n\\naddonemap(map0)\\naddmarkdown(text=\"33333333333\")   #,savename=\\'3rd.html\\'\\naddmaps([map1])\\naddmarkdown(text=\"44444444444\")\\nlatestnote()\\n\\n\\n\\n'"
      ]
     },
     "execution_count": 110,
     "metadata": {},
     "output_type": "execute_result"
    }
   ],
   "source": [
    "''' combination test'''\n",
    "'''\n",
    "map0=mapHTML(\"relative27_180.html\")\n",
    "map1=mapHTML(\"relative27_182.html\",size=50)\n",
    "\n",
    "newHTMLnote()\n",
    "addmarkdown(text=\"11111111111\",new=True)\n",
    "latestnote()\n",
    "\n",
    "\n",
    "addmarkdown(text=\"22222222222\",savename='2nd.html')\n",
    "latestnote()\n",
    "\n",
    "addonemap(map0)\n",
    "addmarkdown(text=\"33333333333\")   #,savename='3rd.html'\n",
    "addmaps([map1])\n",
    "addmarkdown(text=\"44444444444\")\n",
    "latestnote()\n",
    "\n",
    "\n",
    "\n",
    "'''\n"
   ]
  },
  {
   "cell_type": "code",
   "execution_count": null,
   "metadata": {
    "collapsed": false
   },
   "outputs": [],
   "source": []
  },
  {
   "cell_type": "code",
   "execution_count": 111,
   "metadata": {
    "collapsed": false
   },
   "outputs": [
    {
     "data": {
      "text/plain": [
       "'\\n<h1> ~ <h6>\\nbig  ~ samll\\n\\n\\n<b> - Bold text\\n<strong> - Important text\\n<i> - Italic text\\n<em> - Emphasized text\\n<mark> - Marked text\\n<small> - Small text\\n<del> - Deleted text\\n<ins> - Inserted text\\n<sub> - Subscript text\\n<sup> - Superscript text\\n'"
      ]
     },
     "execution_count": 111,
     "metadata": {},
     "output_type": "execute_result"
    }
   ],
   "source": [
    "'''\n",
    "<h1> ~ <h6>\n",
    "big  ~ samll\n",
    "\n",
    "\n",
    "<b> - Bold text\n",
    "<strong> - Important text\n",
    "<i> - Italic text\n",
    "<em> - Emphasized text\n",
    "<mark> - Marked text\n",
    "<small> - Small text\n",
    "<del> - Deleted text\n",
    "<ins> - Inserted text\n",
    "<sub> - Subscript text\n",
    "<sup> - Superscript text\n",
    "'''"
   ]
  }
 ],
 "metadata": {
  "anaconda-cloud": {},
  "kernelspec": {
   "display_name": "Python [conda root]",
   "language": "python",
   "name": "conda-root-py"
  },
  "language_info": {
   "codemirror_mode": {
    "name": "ipython",
    "version": 3
   },
   "file_extension": ".py",
   "mimetype": "text/x-python",
   "name": "python",
   "nbconvert_exporter": "python",
   "pygments_lexer": "ipython3",
   "version": "3.5.2"
  }
 },
 "nbformat": 4,
 "nbformat_minor": 1
}
