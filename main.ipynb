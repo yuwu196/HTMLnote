{
 "cells": [
  {
   "cell_type": "code",
   "execution_count": 1,
   "metadata": {
    "collapsed": false
   },
   "outputs": [],
   "source": [
    "# FOR IMPORT IPYTHON\n",
    "import sys\n",
    "sys.path.append('/Users/yuwu/Desktop/UIUC/HTMLnote_pkg/HTMLnote/')\n",
    "import ImportIpython as II\n",
    "sys.meta_path.append(II.NotebookFinder())"
   ]
  },
  {
   "cell_type": "code",
   "execution_count": 2,
   "metadata": {
    "collapsed": false
   },
   "outputs": [],
   "source": [
    "import HTMLnote.readHTML as RH\n",
    "from HTMLnote.readHTML import mapHTML\n",
    "import HTMLnote.NoteTemplate as NT\n",
    "from HTMLnote.NoteTemplate import newHTMLnote,addmaps,addonemap,addmarkdown,currenttime,latestnote"
   ]
  },
  {
   "cell_type": "code",
   "execution_count": 3,
   "metadata": {
    "collapsed": false
   },
   "outputs": [],
   "source": [
    "#dir_path\n"
   ]
  },
  {
   "cell_type": "code",
   "execution_count": 4,
   "metadata": {
    "collapsed": false
   },
   "outputs": [
    {
     "name": "stdout",
     "output_type": "stream",
     "text": [
      "soup is done!\n",
      "soup is done!\n",
      "soup is done!\n",
      "soup is done!\n",
      "soup is done!\n",
      "soup is done!\n",
      "soup is done!\n",
      "soup is done!\n",
      "soup is done!\n",
      "soup is done!\n",
      "soup is done!\n",
      "soup is done!\n"
     ]
    }
   ],
   "source": [
    "mapset= [ mapHTML(\"relative27_\"+str(i)+\".html\",size=50) for i in range(168,180)]"
   ]
  },
  {
   "cell_type": "code",
   "execution_count": 5,
   "metadata": {
    "collapsed": false
   },
   "outputs": [
    {
     "data": {
      "text/plain": [
       "'<style> #map_fe3fd56473b248ac9b8fa0fbdd982a43 {\\n                position : relative;\\n                width : 50.0%;\\n                height: 50.0%;\\n                left: 0.0%;\\n                top: 0.0%;\\n                }\\n            </style>'"
      ]
     },
     "execution_count": 5,
     "metadata": {},
     "output_type": "execute_result"
    }
   ],
   "source": [
    "\n",
    "\n",
    "mapset[0].style\n",
    "\n"
   ]
  },
  {
   "cell_type": "code",
   "execution_count": 6,
   "metadata": {
    "collapsed": false
   },
   "outputs": [
    {
     "name": "stdout",
     "output_type": "stream",
     "text": [
      "new_HTMLnote\n",
      "\n",
      "#map is added!\n",
      "\n",
      "the latest HTMLnote is saved as new_HTMLnote.html\n",
      "thenewname\n",
      "#mapset is added!\n",
      "\n",
      "the latest HTMLnote is saved as thenewname.html\n",
      "thenewname\n",
      "#text is added!\n",
      "\n",
      "the latest HTMLnote is saved as thenewname.html\n"
     ]
    }
   ],
   "source": [
    "newHTMLnote()\n",
    "addonemap(mapset[0],new=True)\n",
    "latestnote()\n",
    "addmaps(mapset[2:3],savename='thenewname.html')\n",
    "latestnote()\n",
    "addmarkdown(text='Final Test! \\n '+currenttime())\n",
    "latestnote()"
   ]
  },
  {
   "cell_type": "code",
   "execution_count": null,
   "metadata": {
    "collapsed": false
   },
   "outputs": [],
   "source": []
  },
  {
   "cell_type": "code",
   "execution_count": null,
   "metadata": {
    "collapsed": false
   },
   "outputs": [],
   "source": []
  },
  {
   "cell_type": "code",
   "execution_count": null,
   "metadata": {
    "collapsed": false
   },
   "outputs": [],
   "source": []
  },
  {
   "cell_type": "code",
   "execution_count": null,
   "metadata": {
    "collapsed": true
   },
   "outputs": [],
   "source": []
  }
 ],
 "metadata": {
  "anaconda-cloud": {},
  "kernelspec": {
   "display_name": "Python [conda root]",
   "language": "python",
   "name": "conda-root-py"
  },
  "language_info": {
   "codemirror_mode": {
    "name": "ipython",
    "version": 3
   },
   "file_extension": ".py",
   "mimetype": "text/x-python",
   "name": "python",
   "nbconvert_exporter": "python",
   "pygments_lexer": "ipython3",
   "version": "3.5.2"
  }
 },
 "nbformat": 4,
 "nbformat_minor": 1
}
